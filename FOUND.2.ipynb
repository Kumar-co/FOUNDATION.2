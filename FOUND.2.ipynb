{
 "cells": [
  {
   "cell_type": "markdown",
   "metadata": {},
   "source": [
    "FOUNDATION ASSIGNMENT N0 02"
   ]
  },
  {
   "cell_type": "markdown",
   "metadata": {},
   "source": [
    "Q1. What is the syntax for adding an element to a list in Python?"
   ]
  },
  {
   "cell_type": "markdown",
   "metadata": {},
   "source": [
    "In Python, there are two common methods to add an element to a list:\n",
    "\n",
    "### 1. **Using the `append()` method**:\n",
    "- The `append()` method adds a single element to the **end** of the list.\n",
    "  \n",
    "#### Syntax:\n",
    "```python\n",
    "list_name.append(element)\n",
    "```\n",
    "\n",
    "#### Example:\n",
    "```python\n",
    "my_list = [1, 2, 3]\n",
    "my_list.append(4)\n",
    "print(my_list)  # Output: [1, 2, 3, 4]\n",
    "```\n",
    "\n",
    "### 2. **Using the `insert()` method**:\n",
    "- The `insert()` method adds an element at a **specific position** (index) in the list.\n",
    "  \n",
    "#### Syntax:\n",
    "```python\n",
    "list_name.insert(index, element)\n",
    "```\n",
    "\n",
    "#### Example:\n",
    "```python\n",
    "my_list = [1, 2, 3]\n",
    "my_list.insert(1, 5)  # Inserting 5 at index 1\n",
    "print(my_list)  # Output: [1, 5, 2, 3]\n",
    "```\n",
    " "
   ]
  },
  {
   "cell_type": "markdown",
   "metadata": {},
   "source": [
    "Q2. What is the difference between remove() and pop() functions in Python?"
   ]
  },
  {
   "cell_type": "markdown",
   "metadata": {},
   "source": [
    "The `remove()` and `pop()` functions in Python are both used to delete elements from a list, but they operate in different ways. Here's a detailed comparison:\n",
    "\n",
    "### 1. **`remove()` function:**\n",
    "- **Purpose**: Removes the **first occurrence** of a specified value from the list.\n",
    "- **Syntax**: \n",
    "  ```python\n",
    "  list_name.remove(element)\n",
    "  ```\n",
    "- **Behavior**:\n",
    "  - If the element is found, it is removed.\n",
    "  - If the element is **not found**, it raises a `ValueError`.\n",
    "  \n",
    "#### Example:\n",
    "```python\n",
    "my_list = [1, 2, 3, 4, 2]\n",
    "my_list.remove(2)\n",
    "print(my_list)  # Output: [1, 3, 4, 2]  (Removes the first occurrence of 2)\n",
    "```\n",
    "\n",
    "### 2. **`pop()` function:**\n",
    "- **Purpose**: Removes and **returns** the element at a specified index. If no index is provided, it removes and returns the **last element**.\n",
    "- **Syntax**:\n",
    "  ```python\n",
    "  list_name.pop(index)  # index is optional\n",
    "  ```\n",
    "- **Behavior**:\n",
    "  - If an **index is specified**, it removes the element at that index.\n",
    "  - If no index is specified, it removes the **last element**.\n",
    "  - If the specified index is **out of range**, it raises an `IndexError`.\n",
    "  \n",
    "#### Example (without index):\n",
    "```python\n",
    "my_list = [1, 2, 3, 4]\n",
    "removed_element = my_list.pop()\n",
    "print(my_list)         # Output: [1, 2, 3]  (Removes the last element)\n",
    "print(removed_element) # Output: 4          (Returns the removed element)\n",
    "```\n",
    "\n",
    "#### Example (with index):\n",
    "```python\n",
    "my_list = [1, 2, 3, 4]\n",
    "removed_element = my_list.pop(1)  # Removes the element at index 1\n",
    "print(my_list)         # Output: [1, 3, 4]\n",
    "print(removed_element) # Output: 2\n",
    "```\n",
    "\n",
    "### Key Differences:\n",
    "| Aspect               | `remove()`                             | `pop()`                                  |\n",
    "|----------------------|----------------------------------------|------------------------------------------|\n",
    "| **Removes by**        | Value (first occurrence)               | Index (optional; defaults to the last element) |\n",
    "| **Return value**      | Does **not** return the removed element | Returns the removed element              |\n",
    "| **Error handling**    | Raises `ValueError` if the value is not found | Raises `IndexError` if the index is out of range |\n",
    "| **Usage scenario**    | Useful when you want to remove by **value** | Useful when you want to remove by **index** or retrieve the removed element |\n",
    "\n",
    " "
   ]
  },
  {
   "cell_type": "markdown",
   "metadata": {},
   "source": [
    "Q3. Write a Python code to sort a list in descending order."
   ]
  },
  {
   "cell_type": "markdown",
   "metadata": {},
   "source": [
    "You can sort a list in Python in descending order using the `sort()` method with the `reverse=True` argument or by using the `sorted()` function with the same argument.\n",
    "\n",
    "### 1. **Using the `sort()` method** (modifies the original list):\n",
    "```python\n",
    "my_list = [4, 1, 3, 2]\n",
    "my_list.sort(reverse=True)\n",
    "print(my_list)  # Output: [4, 3, 2, 1]\n",
    "```\n",
    "\n",
    "### 2. **Using the `sorted()` function** (creates a new sorted list):\n",
    "```python\n",
    "my_list = [4, 1, 3, 2]\n",
    "sorted_list = sorted(my_list, reverse=True)\n",
    "print(sorted_list)  # Output: [4, 3, 2, 1]\n",
    "print(my_list)      # Original list remains unchanged: [4, 1, 3, 2]\n",
    "```\n",
    "\n",
    " "
   ]
  },
  {
   "cell_type": "markdown",
   "metadata": {},
   "source": [
    "Q4. Write a Python code to count the number of occurrences of an element in a list."
   ]
  },
  {
   "cell_type": "markdown",
   "metadata": {},
   "source": [
    "You can count the number of occurrences of an element in a list using the `count()` method in Python.\n",
    "\n",
    "### Syntax:\n",
    "```python\n",
    "list_name.count(element)\n",
    "```\n",
    "\n",
    "### Example:\n",
    "```python\n",
    "my_list = [1, 2, 2, 3, 4, 2, 5]\n",
    "count_of_2 = my_list.count(2)\n",
    "print(f\"The number 2 occurs {count_of_2} times in the list.\")  \n",
    "# Output: The number 2 occurs 3 times in the list.\n",
    "```\n",
    "\n",
    "### Explanation:\n",
    "- `my_list.count(2)` counts how many times the element `2` appears in `my_list` and returns the count."
   ]
  },
  {
   "cell_type": "markdown",
   "metadata": {},
   "source": [
    "Q5. Write a Python code to reverse a list."
   ]
  },
  {
   "cell_type": "markdown",
   "metadata": {},
   "source": [
    "You can reverse a list in Python using one of the following methods:\n",
    "\n",
    "### 1. **Using the `reverse()` method** (modifies the original list):\n",
    "```python\n",
    "my_list = [1, 2, 3, 4, 5]\n",
    "my_list.reverse()\n",
    "print(my_list)  # Output: [5, 4, 3, 2, 1]\n",
    "```\n",
    "\n",
    "### 2. **Using slicing** (creates a new reversed list):\n",
    "```python\n",
    "my_list = [1, 2, 3, 4, 5]\n",
    "reversed_list = my_list[::-1]\n",
    "print(reversed_list)  # Output: [5, 4, 3, 2, 1]\n",
    "```\n",
    "\n",
    "### 3. **Using the `reversed()` function** (creates a reversed iterator):\n",
    "```python\n",
    "my_list = [1, 2, 3, 4, 5]\n",
    "reversed_list = list(reversed(my_list))\n",
    "print(reversed_list)  # Output: [5, 4, 3, 2, 1]\n",
    "```\n",
    "\n",
    " "
   ]
  }
 ],
 "metadata": {
  "language_info": {
   "name": "python"
  }
 },
 "nbformat": 4,
 "nbformat_minor": 2
}
